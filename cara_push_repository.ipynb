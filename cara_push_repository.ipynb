{
 "cells": [
  {
   "cell_type": "code",
   "execution_count": null,
   "metadata": {},
   "outputs": [],
   "source": [
    "{# Ini Header Markdown\n",
    "\n",
    "## Subheader\n",
    "\n",
    "###Sub-Subheader}\n"
   ]
  },
  {
   "cell_type": "markdown",
   "metadata": {},
   "source": [
    "# Ini Header Markdown\n",
    "\n",
    "## Subheader\n",
    "\n",
    "### Sub-Subheader"
   ]
  },
  {
   "cell_type": "markdown",
   "metadata": {},
   "source": [
    "# Tutorial Mengumpulkan tugas \n",
    "\n",
    "1. Clone repository tugas dari SSH-nya dengan `git clone [url SSH]`\n",
    "2. Masukan file pengerjaan tugas ke dalam *cloned repo*\n",
    "3. ***ATAU*** kerjakan tugas langsung di dalam *cloned repo*\n",
    "\n",
    "\n",
    "*** mulai dari sini pastikan terminal ada di dirrectory yang benar\n",
    "\n",
    "\n",
    "4. Setiap ada perubahan pada file lakukan `git add <nama_file>` ***atau*** `git add.`\n",
    "5. Gunakan 'git status' untuk melihat file apa saja yang berubah, kalau warnanya merah berarti ada perubahan yang belum di *add*, sedangkan kalau hijau berarti perubahan sudah di *add*\n",
    "6. Lakukan `git commit -m ''comment apa perubahanny''` jika sudah yakin dengan perubahan yang dilakukan,\n",
    "7. bisa cek git status lagi\n",
    "8. lakukan `git push` untuk sinkronisasi dengan repo (upload)"
   ]
  },
  {
   "cell_type": "markdown",
   "metadata": {},
   "source": []
  }
 ],
 "metadata": {
  "language_info": {
   "name": "python"
  }
 },
 "nbformat": 4,
 "nbformat_minor": 2
}
